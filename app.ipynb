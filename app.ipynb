{
 "cells": [
  {
   "cell_type": "code",
   "execution_count": 1,
   "metadata": {},
   "outputs": [
    {
     "name": "stdout",
     "output_type": "stream",
     "text": [
      "Requirement already satisfied: Flask in c:\\users\\pc user\\appdata\\local\\programs\\python\\python310\\lib\\site-packages (2.1.1)"
     ]
    },
    {
     "name": "stderr",
     "output_type": "stream",
     "text": [
      "WARNING: You are using pip version 22.0.4; however, version 24.2 is available.\n",
      "You should consider upgrading via the 'C:\\Users\\PC USER\\AppData\\Local\\Programs\\Python\\Python310\\python.exe -m pip install --upgrade pip' command.\n"
     ]
    },
    {
     "name": "stdout",
     "output_type": "stream",
     "text": [
      "\n",
      "Requirement already satisfied: Werkzeug>=2.0 in c:\\users\\pc user\\appdata\\local\\programs\\python\\python310\\lib\\site-packages (from Flask) (2.1.1)\n",
      "Requirement already satisfied: itsdangerous>=2.0 in c:\\users\\pc user\\appdata\\local\\programs\\python\\python310\\lib\\site-packages (from Flask) (2.1.2)\n",
      "Requirement already satisfied: click>=8.0 in c:\\users\\pc user\\appdata\\local\\programs\\python\\python310\\lib\\site-packages (from Flask) (8.1.2)\n",
      "Requirement already satisfied: Jinja2>=3.0 in c:\\users\\pc user\\appdata\\local\\programs\\python\\python310\\lib\\site-packages (from Flask) (3.1.1)\n",
      "Requirement already satisfied: colorama in c:\\users\\pc user\\appdata\\local\\programs\\python\\python310\\lib\\site-packages (from click>=8.0->Flask) (0.4.4)\n",
      "Requirement already satisfied: MarkupSafe>=2.0 in c:\\users\\pc user\\appdata\\local\\programs\\python\\python310\\lib\\site-packages (from Jinja2>=3.0->Flask) (2.1.1)\n"
     ]
    }
   ],
   "source": [
    "! pip install Flask"
   ]
  },
  {
   "cell_type": "code",
   "execution_count": 3,
   "metadata": {},
   "outputs": [
    {
     "name": "stdout",
     "output_type": "stream",
     "text": [
      "Requirement already satisfied: mysql in c:\\users\\pc user\\appdata\\local\\programs\\python\\python310\\lib\\site-packages (0.0.3)\n",
      "Requirement already satisfied: mysqlclient in c:\\users\\pc user\\appdata\\local\\programs\\python\\python310\\lib\\site-packages (from mysql) (2.2.4)\n"
     ]
    },
    {
     "name": "stderr",
     "output_type": "stream",
     "text": [
      "WARNING: You are using pip version 22.0.4; however, version 24.2 is available.\n",
      "You should consider upgrading via the 'C:\\Users\\PC USER\\AppData\\Local\\Programs\\Python\\Python310\\python.exe -m pip install --upgrade pip' command.\n"
     ]
    }
   ],
   "source": [
    "! pip install mysql"
   ]
  },
  {
   "cell_type": "code",
   "execution_count": 4,
   "metadata": {},
   "outputs": [
    {
     "name": "stdout",
     "output_type": "stream",
     "text": [
      "certifi==2023.5.7\n",
      "charset-normalizer==3.2.0\n",
      "click==8.1.2\n",
      "colorama==0.4.4\n",
      "customtkinter==5.2.2\n",
      "cycler==0.11.0\n",
      "darkdetect==0.8.0\n",
      "DateTime==5.4\n",
      "distlib==0.3.8\n",
      "filelock==3.13.1\n",
      "Flask==2.1.1\n",
      "fonttools==4.32.0\n",
      "idna==3.4\n",
      "itsdangerous==2.1.2\n",
      "Jinja2==3.1.1\n",
      "joblib==1.3.2\n",
      "kiwisolver==1.4.2\n",
      "MarkupSafe==2.1.1\n",
      "matplotlib==3.5.1\n",
      "mysql==0.0.3\n",
      "mysqlclient==2.2.4\n",
      "nltk==3.8.1\n",
      "numpy==1.22.3\n",
      "packaging==21.3\n",
      "pandas==1.4.2\n",
      "Pillow==9.1.0\n",
      "platformdirs==4.1.0\n",
      "PyAudio==0.2.14\n",
      "pygame==2.5.2\n",
      "pyparsing==3.0.8\n",
      "python-dateutil==2.8.2\n",
      "pytz==2022.1\n",
      "regex==2023.12.25\n",
      "requests==2.31.0\n",
      "six==1.16.0\n",
      "SpeechRecognition==3.10.0\n",
      "tk==0.1.0\n",
      "tqdm==4.66.1\n",
      "urllib3==2.0.3\n",
      "virtualenv==20.25.0\n",
      "Werkzeug==2.1.1\n",
      "zope.interface==6.1\n"
     ]
    }
   ],
   "source": [
    "! pip freeze"
   ]
  },
  {
   "cell_type": "code",
   "execution_count": 5,
   "metadata": {},
   "outputs": [
    {
     "name": "stdout",
     "output_type": "stream",
     "text": [
      "Collecting WTForms"
     ]
    },
    {
     "name": "stderr",
     "output_type": "stream",
     "text": [
      "WARNING: You are using pip version 22.0.4; however, version 24.2 is available.\n",
      "You should consider upgrading via the 'C:\\Users\\PC USER\\AppData\\Local\\Programs\\Python\\Python310\\python.exe -m pip install --upgrade pip' command.\n"
     ]
    },
    {
     "name": "stdout",
     "output_type": "stream",
     "text": [
      "\n",
      "  Downloading wtforms-3.1.2-py3-none-any.whl (145 kB)\n",
      "     ------------------------------------- 146.0/146.0 KB 98.7 kB/s eta 0:00:00\n",
      "Requirement already satisfied: markupsafe in c:\\users\\pc user\\appdata\\local\\programs\\python\\python310\\lib\\site-packages (from WTForms) (2.1.1)\n",
      "Installing collected packages: WTForms\n",
      "Successfully installed WTForms-3.1.2\n"
     ]
    }
   ],
   "source": [
    "! pip install WTForms"
   ]
  }
 ],
 "metadata": {
  "kernelspec": {
   "display_name": "Python 3",
   "language": "python",
   "name": "python3"
  },
  "language_info": {
   "codemirror_mode": {
    "name": "ipython",
    "version": 3
   },
   "file_extension": ".py",
   "mimetype": "text/x-python",
   "name": "python",
   "nbconvert_exporter": "python",
   "pygments_lexer": "ipython3",
   "version": "3.11.3"
  }
 },
 "nbformat": 4,
 "nbformat_minor": 2
}
